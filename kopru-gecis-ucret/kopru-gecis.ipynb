{
 "cells": [
  {
   "cell_type": "markdown",
   "metadata": {},
   "source": [
    "1915 Çanakkale Köprüsü'nde saatte 112 + X*2 hızla gidiyorsun ve köprüden çıkışta ücret ile beraber hızına göre bir ceza ödeyeceksin. Otomobil ücretinin 272.5 TL olduğu durumda.\n",
    "\n",
    "120 hız sınırının %0 - 10 üzerindeysen ücretin %50'si\n",
    "\n",
    "%10 - 20 üstündeysen %75'i\n",
    "\n",
    "%20'den fazlaysan %150'si kadar ceza ödeyeceksin.\n",
    "\n",
    "Bu duruma göre hızına göre ödeyeceğin toplam miktarı sana söyleyen bir Fonksiyon yaz\n",
    "\n",
    "Dipnot 1: Milletvekili aracın varsa ücret ve ceza ödemezsin\n",
    "\n",
    "Dipnot2: X = şuanki saat (Örn: 19:15 -----> 112 + 19*2 = 150 km/h)"
   ]
  },
  {
   "cell_type": "code",
   "execution_count": 14,
   "metadata": {},
   "outputs": [
    {
     "name": "stdout",
     "output_type": "stream",
     "text": [
      "-----KOPRU UCRETI-----\n",
      "Ödenmesi gereken toplam miktar: 681.25 TL ortalama hız: 152\n"
     ]
    }
   ],
   "source": [
    "def toplam_odeme(hiz, saat):\n",
    "    ceza = 0\n",
    "    ucret = 272.5\n",
    "    milletvekili_arac = False\n",
    "\n",
    "    # Milletvekili aracı kontrolü\n",
    "    mv = input(\"Araç milletvekili aracı mı? (evet/hayır): \")\n",
    "    if mv.lower() == \"evet\":\n",
    "        milletvekili_arac = True\n",
    "\n",
    "    if not milletvekili_arac:\n",
    "        hiz_limit = 120\n",
    "        fark = (hiz - hiz_limit) / hiz_limit * 100\n",
    "\n",
    "        if fark > 20:\n",
    "            ceza = ucret * 1.5\n",
    "        elif fark > 10:\n",
    "            ceza = ucret * 0.75\n",
    "        elif fark > 0:\n",
    "            ceza = ucret * 0.5\n",
    "\n",
    "        return ucret + ceza  # Ücret ve cezayı toplam olarak döndür\n",
    "\n",
    "    else:\n",
    "        return 0  # Milletvekili aracı için ödenecek ücret yok\n",
    "\n",
    "saat = 20  # Örnek olarak 19:15\n",
    "hiz = 112 + saat * 2  # Hız hesabı\n",
    "\n",
    "odenmesi_gereken = toplam_odeme(hiz, saat)\n",
    "if odenmesi_gereken:\n",
    "    print(\"-----KOPRU UCRETI-----\")\n",
    "    print(f\"Ödenmesi gereken toplam miktar: {odenmesi_gereken} TL ortalama hız: {hiz}\")\n",
    "else:\n",
    "    print(\"Milletvekili aracı için ödenecek ücret yok.\")\n"
   ]
  },
  {
   "cell_type": "code",
   "execution_count": null,
   "metadata": {},
   "outputs": [],
   "source": []
  }
 ],
 "metadata": {
  "kernelspec": {
   "display_name": "base",
   "language": "python",
   "name": "python3"
  },
  "language_info": {
   "codemirror_mode": {
    "name": "ipython",
    "version": 3
   },
   "file_extension": ".py",
   "mimetype": "text/x-python",
   "name": "python",
   "nbconvert_exporter": "python",
   "pygments_lexer": "ipython3",
   "version": "3.11.5"
  }
 },
 "nbformat": 4,
 "nbformat_minor": 2
}
